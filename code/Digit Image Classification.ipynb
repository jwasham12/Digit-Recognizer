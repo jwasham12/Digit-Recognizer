{
 "cells": [
  {
   "cell_type": "markdown",
   "metadata": {},
   "source": [
    "# Classifying Digits\n",
    "\n",
    "## Importing Libraries"
   ]
  },
  {
   "cell_type": "code",
   "execution_count": 22,
   "metadata": {},
   "outputs": [],
   "source": [
    "# import libraries\n",
    "import numpy as np\n",
    "import pandas as pd\n",
    "import matplotlib.pyplot as plt\n",
    "import seaborn as sns\n",
    "import time as time\n",
    "from sklearn.preprocessing import StandardScaler\n",
    "from sklearn.model_selection import train_test_split, GridSearchCV, cross_val_score\n",
    "from sklearn.decomposition import PCA\n",
    "from sklearn.svm import SVC\n",
    "from sklearn.pipeline import Pipeline\n",
    "import warnings\n",
    "%matplotlib inline\n",
    "warnings.filterwarnings('ignore')"
   ]
  },
  {
   "cell_type": "markdown",
   "metadata": {},
   "source": [
    "## Importing and Checking Data"
   ]
  },
  {
   "cell_type": "code",
   "execution_count": 2,
   "metadata": {},
   "outputs": [],
   "source": [
    "# Import the csv file\n",
    "train = pd.read_csv('../dataset/train.csv')"
   ]
  },
  {
   "cell_type": "code",
   "execution_count": 3,
   "metadata": {},
   "outputs": [
    {
     "data": {
      "text/html": [
       "<div>\n",
       "<style scoped>\n",
       "    .dataframe tbody tr th:only-of-type {\n",
       "        vertical-align: middle;\n",
       "    }\n",
       "\n",
       "    .dataframe tbody tr th {\n",
       "        vertical-align: top;\n",
       "    }\n",
       "\n",
       "    .dataframe thead th {\n",
       "        text-align: right;\n",
       "    }\n",
       "</style>\n",
       "<table border=\"1\" class=\"dataframe\">\n",
       "  <thead>\n",
       "    <tr style=\"text-align: right;\">\n",
       "      <th></th>\n",
       "      <th>label</th>\n",
       "      <th>pixel0</th>\n",
       "      <th>pixel1</th>\n",
       "      <th>pixel2</th>\n",
       "      <th>pixel3</th>\n",
       "      <th>pixel4</th>\n",
       "      <th>pixel5</th>\n",
       "      <th>pixel6</th>\n",
       "      <th>pixel7</th>\n",
       "      <th>pixel8</th>\n",
       "      <th>...</th>\n",
       "      <th>pixel774</th>\n",
       "      <th>pixel775</th>\n",
       "      <th>pixel776</th>\n",
       "      <th>pixel777</th>\n",
       "      <th>pixel778</th>\n",
       "      <th>pixel779</th>\n",
       "      <th>pixel780</th>\n",
       "      <th>pixel781</th>\n",
       "      <th>pixel782</th>\n",
       "      <th>pixel783</th>\n",
       "    </tr>\n",
       "  </thead>\n",
       "  <tbody>\n",
       "    <tr>\n",
       "      <th>0</th>\n",
       "      <td>1</td>\n",
       "      <td>0</td>\n",
       "      <td>0</td>\n",
       "      <td>0</td>\n",
       "      <td>0</td>\n",
       "      <td>0</td>\n",
       "      <td>0</td>\n",
       "      <td>0</td>\n",
       "      <td>0</td>\n",
       "      <td>0</td>\n",
       "      <td>...</td>\n",
       "      <td>0</td>\n",
       "      <td>0</td>\n",
       "      <td>0</td>\n",
       "      <td>0</td>\n",
       "      <td>0</td>\n",
       "      <td>0</td>\n",
       "      <td>0</td>\n",
       "      <td>0</td>\n",
       "      <td>0</td>\n",
       "      <td>0</td>\n",
       "    </tr>\n",
       "    <tr>\n",
       "      <th>1</th>\n",
       "      <td>0</td>\n",
       "      <td>0</td>\n",
       "      <td>0</td>\n",
       "      <td>0</td>\n",
       "      <td>0</td>\n",
       "      <td>0</td>\n",
       "      <td>0</td>\n",
       "      <td>0</td>\n",
       "      <td>0</td>\n",
       "      <td>0</td>\n",
       "      <td>...</td>\n",
       "      <td>0</td>\n",
       "      <td>0</td>\n",
       "      <td>0</td>\n",
       "      <td>0</td>\n",
       "      <td>0</td>\n",
       "      <td>0</td>\n",
       "      <td>0</td>\n",
       "      <td>0</td>\n",
       "      <td>0</td>\n",
       "      <td>0</td>\n",
       "    </tr>\n",
       "    <tr>\n",
       "      <th>2</th>\n",
       "      <td>1</td>\n",
       "      <td>0</td>\n",
       "      <td>0</td>\n",
       "      <td>0</td>\n",
       "      <td>0</td>\n",
       "      <td>0</td>\n",
       "      <td>0</td>\n",
       "      <td>0</td>\n",
       "      <td>0</td>\n",
       "      <td>0</td>\n",
       "      <td>...</td>\n",
       "      <td>0</td>\n",
       "      <td>0</td>\n",
       "      <td>0</td>\n",
       "      <td>0</td>\n",
       "      <td>0</td>\n",
       "      <td>0</td>\n",
       "      <td>0</td>\n",
       "      <td>0</td>\n",
       "      <td>0</td>\n",
       "      <td>0</td>\n",
       "    </tr>\n",
       "    <tr>\n",
       "      <th>3</th>\n",
       "      <td>4</td>\n",
       "      <td>0</td>\n",
       "      <td>0</td>\n",
       "      <td>0</td>\n",
       "      <td>0</td>\n",
       "      <td>0</td>\n",
       "      <td>0</td>\n",
       "      <td>0</td>\n",
       "      <td>0</td>\n",
       "      <td>0</td>\n",
       "      <td>...</td>\n",
       "      <td>0</td>\n",
       "      <td>0</td>\n",
       "      <td>0</td>\n",
       "      <td>0</td>\n",
       "      <td>0</td>\n",
       "      <td>0</td>\n",
       "      <td>0</td>\n",
       "      <td>0</td>\n",
       "      <td>0</td>\n",
       "      <td>0</td>\n",
       "    </tr>\n",
       "    <tr>\n",
       "      <th>4</th>\n",
       "      <td>0</td>\n",
       "      <td>0</td>\n",
       "      <td>0</td>\n",
       "      <td>0</td>\n",
       "      <td>0</td>\n",
       "      <td>0</td>\n",
       "      <td>0</td>\n",
       "      <td>0</td>\n",
       "      <td>0</td>\n",
       "      <td>0</td>\n",
       "      <td>...</td>\n",
       "      <td>0</td>\n",
       "      <td>0</td>\n",
       "      <td>0</td>\n",
       "      <td>0</td>\n",
       "      <td>0</td>\n",
       "      <td>0</td>\n",
       "      <td>0</td>\n",
       "      <td>0</td>\n",
       "      <td>0</td>\n",
       "      <td>0</td>\n",
       "    </tr>\n",
       "  </tbody>\n",
       "</table>\n",
       "<p>5 rows × 785 columns</p>\n",
       "</div>"
      ],
      "text/plain": [
       "   label  pixel0  pixel1  pixel2  pixel3  pixel4  pixel5  pixel6  pixel7  \\\n",
       "0      1       0       0       0       0       0       0       0       0   \n",
       "1      0       0       0       0       0       0       0       0       0   \n",
       "2      1       0       0       0       0       0       0       0       0   \n",
       "3      4       0       0       0       0       0       0       0       0   \n",
       "4      0       0       0       0       0       0       0       0       0   \n",
       "\n",
       "   pixel8    ...     pixel774  pixel775  pixel776  pixel777  pixel778  \\\n",
       "0       0    ...            0         0         0         0         0   \n",
       "1       0    ...            0         0         0         0         0   \n",
       "2       0    ...            0         0         0         0         0   \n",
       "3       0    ...            0         0         0         0         0   \n",
       "4       0    ...            0         0         0         0         0   \n",
       "\n",
       "   pixel779  pixel780  pixel781  pixel782  pixel783  \n",
       "0         0         0         0         0         0  \n",
       "1         0         0         0         0         0  \n",
       "2         0         0         0         0         0  \n",
       "3         0         0         0         0         0  \n",
       "4         0         0         0         0         0  \n",
       "\n",
       "[5 rows x 785 columns]"
      ]
     },
     "execution_count": 3,
     "metadata": {},
     "output_type": "execute_result"
    }
   ],
   "source": [
    "# Check the data\n",
    "train.head()"
   ]
  },
  {
   "cell_type": "code",
   "execution_count": 4,
   "metadata": {},
   "outputs": [
    {
     "name": "stdout",
     "output_type": "stream",
     "text": [
      "0\n"
     ]
    }
   ],
   "source": [
    "# Check for missing values\n",
    "print(train.isnull().sum().sum())"
   ]
  },
  {
   "cell_type": "code",
   "execution_count": 5,
   "metadata": {},
   "outputs": [
    {
     "name": "stdout",
     "output_type": "stream",
     "text": [
      "(42000, 785)\n"
     ]
    }
   ],
   "source": [
    "# Check the number of rows and columns\n",
    "print(train.shape)"
   ]
  },
  {
   "cell_type": "code",
   "execution_count": 6,
   "metadata": {},
   "outputs": [
    {
     "name": "stdout",
     "output_type": "stream",
     "text": [
      "(42000, 784)\n"
     ]
    }
   ],
   "source": [
    "# Seperate the true labels and drop the labels in the dataframe\n",
    "label = train.label\n",
    "train.drop('label', axis = 1, inplace=True)\n",
    "print(train.shape)"
   ]
  },
  {
   "cell_type": "markdown",
   "metadata": {},
   "source": [
    "## Image"
   ]
  },
  {
   "cell_type": "code",
   "execution_count": 8,
   "metadata": {},
   "outputs": [
    {
     "data": {
      "image/png": "[encoded data removed]",
      "text/plain": [
       "<Figure size 1800x1800 with 4 Axes>"
      ]
     },
     "metadata": {},
     "output_type": "display_data"
    },
    {
     "data": {
      "image/png": "[encoded data removed]",
      "text/plain": [
       "<Figure size 1800x1800 with 4 Axes>"
      ]
     },
     "metadata": {},
     "output_type": "display_data"
    },
    {
     "data": {
      "image/png": "[encoded data removed]",
      "text/plain": [
       "<Figure size 1800x1800 with 4 Axes>"
      ]
     },
     "metadata": {},
     "output_type": "display_data"
    },
    {
     "data": {
      "image/png": "[encoded data removed]",
      "text/plain": [
       "<Figure size 1800x1800 with 4 Axes>"
      ]
     },
     "metadata": {},
     "output_type": "display_data"
    },
    {
     "data": {
      "image/png": "[encoded data removed]",
      "text/plain": [
       "<Figure size 1800x1800 with 4 Axes>"
      ]
     },
     "metadata": {},
     "output_type": "display_data"
    },
    {
     "data": {
      "image/png": "[encoded data removed]",
      "text/plain": [
       "<Figure size 1800x1800 with 4 Axes>"
      ]
     },
     "metadata": {},
     "output_type": "display_data"
    },
    {
     "data": {
      "image/png": "[encoded data removed]",
      "text/plain": [
       "<Figure size 1800x1800 with 4 Axes>"
      ]
     },
     "metadata": {},
     "output_type": "display_data"
    },
    {
     "data": {
      "image/png": "[encoded data removed]",
      "text/plain": [
       "<Figure size 1800x1800 with 4 Axes>"
      ]
     },
     "metadata": {},
     "output_type": "display_data"
    },
    {
     "data": {
      "image/png": "[encoded data removed]",
      "text/plain": [
       "<Figure size 1800x1800 with 4 Axes>"
      ]
     },
     "metadata": {},
     "output_type": "display_data"
    },
    {
     "data": {
      "image/png": "[encoded data removed]",
      "text/plain": [
       "<Figure size 1800x1800 with 4 Axes>"
      ]
     },
     "metadata": {},
     "output_type": "display_data"
    }
   ],
   "source": [
    "# Check the images of the number in gray scale\n",
    "for x in range(0,10):\n",
    "    train_0=train[label==x]\n",
    "    data_new=[]\n",
    "    for idx in train_0.index:\n",
    "        val=train_0.loc[idx].values.reshape(28,28)\n",
    "        data_new.append(val)\n",
    "    plt.figure(figsize=(25,25))   \n",
    "    for x in range(1,5):\n",
    "        ax1=plt.subplot(1, 20, x)\n",
    "        ax1.imshow(data_new[x],cmap='gray')"
   ]
  },
  {
   "cell_type": "code",
   "execution_count": 9,
   "metadata": {},
   "outputs": [
    {
     "data": {
      "image/png": "[encoded data removed]",
      "text/plain": [
       "<Figure size 1800x1800 with 4 Axes>"
      ]
     },
     "metadata": {},
     "output_type": "display_data"
    },
    {
     "data": {
      "image/png": "[encoded data removed]",
      "text/plain": [
       "<Figure size 1800x1800 with 4 Axes>"
      ]
     },
     "metadata": {},
     "output_type": "display_data"
    },
    {
     "data": {
      "image/png": "[encoded data removed]",
      "text/plain": [
       "<Figure size 1800x1800 with 4 Axes>"
      ]
     },
     "metadata": {},
     "output_type": "display_data"
    },
    {
     "data": {
      "image/png": "[encoded data removed]",
      "text/plain": [
       "<Figure size 1800x1800 with 4 Axes>"
      ]
     },
     "metadata": {},
     "output_type": "display_data"
    },
    {
     "data": {
      "image/png": "[encoded data removed]",
      "text/plain": [
       "<Figure size 1800x1800 with 4 Axes>"
      ]
     },
     "metadata": {},
     "output_type": "display_data"
    },
    {
     "data": {
      "image/png": "[encoded data removed]",
      "text/plain": [
       "<Figure size 1800x1800 with 4 Axes>"
      ]
     },
     "metadata": {},
     "output_type": "display_data"
    },
    {
     "data": {
      "image/png": "[encoded data removed]",
      "text/plain": [
       "<Figure size 1800x1800 with 4 Axes>"
      ]
     },
     "metadata": {},
     "output_type": "display_data"
    },
    {
     "data": {
      "image/png": "[encoded data removed]",
      "text/plain": [
       "<Figure size 1800x1800 with 4 Axes>"
      ]
     },
     "metadata": {},
     "output_type": "display_data"
    },
    {
     "data": {
      "image/png": "[encoded data removed]",
      "text/plain": [
       "<Figure size 1800x1800 with 4 Axes>"
      ]
     },
     "metadata": {},
     "output_type": "display_data"
    },
    {
     "data": {
      "image/png": "[encoded data removed]",
      "text/plain": [
       "<Figure size 1800x1800 with 4 Axes>"
      ]
     },
     "metadata": {},
     "output_type": "display_data"
    }
   ],
   "source": [
    "# Check the images of the number in black and white scale\n",
    "for x in range(0,10):\n",
    "    train_0=train[label==x]\n",
    "    data_new=[]\n",
    "    for idx in train_0.index:\n",
    "        val=train_0.loc[idx].values.reshape(28,28)\n",
    "        data_new.append(val)\n",
    "    plt.figure(figsize=(25,25))   \n",
    "    for x in range(1,5):\n",
    "        ax1=plt.subplot(1, 20, x)\n",
    "        ax1.imshow(data_new[x],cmap='binary')"
   ]
  },
  {
   "cell_type": "markdown",
   "metadata": {},
   "source": [
    "## Train/Test Spilt"
   ]
  },
  {
   "cell_type": "code",
   "execution_count": 13,
   "metadata": {},
   "outputs": [],
   "source": [
    "# Train/Test split the dataframe\n",
    "train_new, test_new,train_labels, test_labels = train_test_split(train, label, stratify=label, test_size=0.2, random_state=42)"
   ]
  },
  {
   "cell_type": "code",
   "execution_count": 14,
   "metadata": {},
   "outputs": [
    {
     "name": "stdout",
     "output_type": "stream",
     "text": [
      "(33600, 784)\n",
      "(33600,)\n",
      "(8400, 784)\n",
      "(8400,)\n"
     ]
    }
   ],
   "source": [
    "# Check the shape of the new train and test dataframes\n",
    "print(train_new.shape)\n",
    "print(train_labels.shape)\n",
    "print(test_new.shape)\n",
    "print(test_labels.shape)"
   ]
  },
  {
   "cell_type": "markdown",
   "metadata": {},
   "source": [
    "## Modeling\n",
    "\n",
    "### Gray-Scale Image"
   ]
  },
  {
   "cell_type": "code",
   "execution_count": 12,
   "metadata": {},
   "outputs": [],
   "source": [
    "# Initiate the SVC model\n",
    "score = []\n",
    "fittime = []\n",
    "svm = SVC(gamma='auto', random_state=42, verbose=True)"
   ]
  },
  {
   "cell_type": "code",
   "execution_count": 13,
   "metadata": {},
   "outputs": [
    {
     "name": "stdout",
     "output_type": "stream",
     "text": [
      "[LibSVM]Time consumed:  00:32:05\n",
      "Train Accuracy:  1.0\n",
      "Test Accuracy:  0.10821428571428572\n"
     ]
    }
   ],
   "source": [
    "# Fit and score the model and compute time, train accuracy and test accuracy\n",
    "start_time = time.time()\n",
    "svm.fit(train_new, train_labels.values.ravel())\n",
    "fittime = time.time() - start_time\n",
    "print(\"Time consumed: \",time.strftime(\"%H:%M:%S\", time.gmtime(fittime)))\n",
    "train_score = svm.score(train_new,train_labels)\n",
    "test_score = svm.score(test_new,test_labels)\n",
    "print(\"Train Accuracy: \",train_score)\n",
    "print(\"Test Accuracy: \",test_score)"
   ]
  },
  {
   "cell_type": "markdown",
   "metadata": {},
   "source": [
    "### Binary Image"
   ]
  },
  {
   "cell_type": "code",
   "execution_count": 14,
   "metadata": {},
   "outputs": [],
   "source": [
    "# Make a new dataframe and modify the data to binary (black and white) images\n",
    "train_b = train_new.copy()\n",
    "test_b = test_new.copy()\n",
    "train_b[train_b>0] = 1\n",
    "test_b[test_b>0] = 1"
   ]
  },
  {
   "cell_type": "code",
   "execution_count": 15,
   "metadata": {},
   "outputs": [
    {
     "name": "stdout",
     "output_type": "stream",
     "text": [
      "[LibSVM]Time consumed:  00:03:21\n",
      "Train Accuracy:  0.9467857142857142\n",
      "Test Accuracy:  0.9382142857142857\n"
     ]
    }
   ],
   "source": [
    "# Fit and score the model and compute time, train accuracy and test accuracy\n",
    "start_time = time.time()\n",
    "svm.fit(train_b, train_labels.values.ravel())\n",
    "fittime2 = time.time() - start_time\n",
    "print(\"Time consumed: \",time.strftime(\"%H:%M:%S\", time.gmtime(fittime2)))\n",
    "train_score2=svm.score(train_b,train_labels)\n",
    "test_score2=svm.score(test_b,test_labels)\n",
    "print(\"Train Accuracy: \",train_score2)\n",
    "print(\"Test Accuracy: \",test_score2)"
   ]
  },
  {
   "cell_type": "markdown",
   "metadata": {},
   "source": [
    "## Modeling with PCA"
   ]
  },
  {
   "cell_type": "markdown",
   "metadata": {},
   "source": [
    "### Gray Scale"
   ]
  },
  {
   "cell_type": "code",
   "execution_count": 16,
   "metadata": {},
   "outputs": [
    {
     "name": "stderr",
     "output_type": "stream",
     "text": [
      "/anaconda3/lib/python3.6/site-packages/sklearn/preprocessing/data.py:625: DataConversionWarning: Data with input dtype int64 were all converted to float64 by StandardScaler.\n",
      "  return self.partial_fit(X, y)\n",
      "/anaconda3/lib/python3.6/site-packages/sklearn/base.py:462: DataConversionWarning: Data with input dtype int64 were all converted to float64 by StandardScaler.\n",
      "  return self.fit(X, **fit_params).transform(X)\n",
      "/anaconda3/lib/python3.6/site-packages/ipykernel_launcher.py:4: DataConversionWarning: Data with input dtype int64 were all converted to float64 by StandardScaler.\n",
      "  after removing the cwd from sys.path.\n"
     ]
    },
    {
     "name": "stdout",
     "output_type": "stream",
     "text": [
      "Keeping 90% Info with  222  components\n"
     ]
    }
   ],
   "source": [
    "# Standardized data\n",
    "ss = StandardScaler()\n",
    "X_std_train = ss.fit_transform(train_new)\n",
    "X_std_test = ss.transform(test_new)\n",
    "\n",
    "# Perform PCA and check how many components needed \n",
    "pca = PCA().fit(X_std_train)\n",
    "n_comp = len(pca.explained_variance_ratio_.cumsum()[pca.explained_variance_ratio_.cumsum() <= 0.90])\n",
    "print(\"Keeping 90% Info with \",n_comp,\" components\")"
   ]
  },
  {
   "cell_type": "code",
   "execution_count": 17,
   "metadata": {},
   "outputs": [],
   "source": [
    "# Covert the data with the necessary components\n",
    "pca2 = PCA(n_components=n_comp)\n",
    "train_pca_b = pca2.fit_transform(X_std_train)\n",
    "test_pca_b = pca2.transform(X_std_test)"
   ]
  },
  {
   "cell_type": "code",
   "execution_count": 19,
   "metadata": {},
   "outputs": [
    {
     "name": "stdout",
     "output_type": "stream",
     "text": [
      "[LibSVM]Time consumed:  00:02:36\n",
      "Train Accuracy:  0.9953869047619047\n",
      "Test Accuracy:  0.9504761904761905\n"
     ]
    }
   ],
   "source": [
    "# Fit and score the model and compute time, train accuracy and test accuracy\n",
    "start_time = time.time()\n",
    "svm.fit(train_pca_b, train_labels.values.ravel())\n",
    "fittime3 = time.time() - start_time\n",
    "print(\"Time consumed: \",time.strftime(\"%H:%M:%S\", time.gmtime(fittime3)))\n",
    "train_score3 = svm.score(train_pca_b,train_labels)\n",
    "test_score3 = svm.score(test_pca_b,test_labels)\n",
    "print(\"Train Accuracy: \",train_score3)\n",
    "print(\"Test Accuracy: \",test_score3)"
   ]
  },
  {
   "cell_type": "markdown",
   "metadata": {},
   "source": [
    "### Binary"
   ]
  },
  {
   "cell_type": "code",
   "execution_count": 20,
   "metadata": {},
   "outputs": [
    {
     "name": "stderr",
     "output_type": "stream",
     "text": [
      "/anaconda3/lib/python3.6/site-packages/sklearn/preprocessing/data.py:625: DataConversionWarning: Data with input dtype int64 were all converted to float64 by StandardScaler.\n",
      "  return self.partial_fit(X, y)\n",
      "/anaconda3/lib/python3.6/site-packages/sklearn/base.py:462: DataConversionWarning: Data with input dtype int64 were all converted to float64 by StandardScaler.\n",
      "  return self.fit(X, **fit_params).transform(X)\n",
      "/anaconda3/lib/python3.6/site-packages/ipykernel_launcher.py:4: DataConversionWarning: Data with input dtype int64 were all converted to float64 by StandardScaler.\n",
      "  after removing the cwd from sys.path.\n"
     ]
    },
    {
     "name": "stdout",
     "output_type": "stream",
     "text": [
      "Keeping 90% Info with  222  components\n"
     ]
    }
   ],
   "source": [
    "# Standardized binary data\n",
    "ss = StandardScaler()\n",
    "X_std_train = ss.fit_transform(train_b)\n",
    "X_std_test = ss.transform(test_b)\n",
    "\n",
    "# Perform PCA and check how many components needed \n",
    "pca = PCA().fit(X_std_train)\n",
    "n_comp2 = len(pca.explained_variance_ratio_.cumsum()[pca.explained_variance_ratio_.cumsum() <= 0.90])\n",
    "print(\"Keeping 90% Info with \",n_comp,\" components\")"
   ]
  },
  {
   "cell_type": "code",
   "execution_count": 21,
   "metadata": {},
   "outputs": [],
   "source": [
    "# Covert the data with the necessary components\n",
    "pca3 = PCA(n_components = n_comp2)\n",
    "train_pca_b = pca3.fit_transform(X_std_train)\n",
    "test_pca_b = pca3.transform(X_std_test)"
   ]
  },
  {
   "cell_type": "code",
   "execution_count": 22,
   "metadata": {},
   "outputs": [
    {
     "name": "stdout",
     "output_type": "stream",
     "text": [
      "[LibSVM]Time consumed to fit model:  00:02:35\n",
      "Train Accuracy:  0.9934821428571429\n",
      "Test Accuracy:  0.9583333333333334\n"
     ]
    }
   ],
   "source": [
    "# Fit and score the model and compute time, train accuracy and test accuracy\n",
    "start_time = time.time()\n",
    "svm.fit(train_pca_b, train_labels.values.ravel())\n",
    "fittime4 = time.time() - start_time\n",
    "print(\"Time consumed to fit model: \",time.strftime(\"%H:%M:%S\", time.gmtime(fittime4)))\n",
    "train_score4=svm.score(train_pca_b,train_labels)\n",
    "test_score4=svm.score(test_pca_b,test_labels)\n",
    "print(\"Train Accuracy: \",train_score4)\n",
    "print(\"Test Accuracy: \",test_score4)"
   ]
  },
  {
   "cell_type": "markdown",
   "metadata": {},
   "source": [
    "## Compare Score and Time"
   ]
  },
  {
   "cell_type": "code",
   "execution_count": 33,
   "metadata": {},
   "outputs": [
    {
     "data": {
      "text/html": [
       "<div>\n",
       "<style scoped>\n",
       "    .dataframe tbody tr th:only-of-type {\n",
       "        vertical-align: middle;\n",
       "    }\n",
       "\n",
       "    .dataframe tbody tr th {\n",
       "        vertical-align: top;\n",
       "    }\n",
       "\n",
       "    .dataframe thead th {\n",
       "        text-align: right;\n",
       "    }\n",
       "</style>\n",
       "<table border=\"1\" class=\"dataframe\">\n",
       "  <thead>\n",
       "    <tr style=\"text-align: right;\">\n",
       "      <th></th>\n",
       "      <th>Train Score</th>\n",
       "      <th>Test Score</th>\n",
       "    </tr>\n",
       "  </thead>\n",
       "  <tbody>\n",
       "    <tr>\n",
       "      <th>Gray Scale</th>\n",
       "      <td>1.000000</td>\n",
       "      <td>0.108214</td>\n",
       "    </tr>\n",
       "    <tr>\n",
       "      <th>Gray Scale (PCA)</th>\n",
       "      <td>0.995387</td>\n",
       "      <td>0.950476</td>\n",
       "    </tr>\n",
       "    <tr>\n",
       "      <th>Binary</th>\n",
       "      <td>0.946786</td>\n",
       "      <td>0.938214</td>\n",
       "    </tr>\n",
       "    <tr>\n",
       "      <th>Binary(PCA)</th>\n",
       "      <td>0.993482</td>\n",
       "      <td>0.958333</td>\n",
       "    </tr>\n",
       "  </tbody>\n",
       "</table>\n",
       "</div>"
      ],
      "text/plain": [
       "                  Train Score  Test Score\n",
       "Gray Scale           1.000000    0.108214\n",
       "Gray Scale (PCA)     0.995387    0.950476\n",
       "Binary               0.946786    0.938214\n",
       " Binary(PCA)         0.993482    0.958333"
      ]
     },
     "execution_count": 33,
     "metadata": {},
     "output_type": "execute_result"
    }
   ],
   "source": [
    "# Make a dataframe of the different models with Train and Test scores\n",
    "name = ['Gray Scale', 'Gray Scale (PCA)', 'Binary', ' Binary(PCA)']\n",
    "score_train = [train_score, train_score3, train_score2, train_score4]\n",
    "score_test = [test_score, test_score3, test_score2, test_score4]\n",
    "time_fit = [fittime, fittime3, fittime2, fittime4]\n",
    "\n",
    "result_score = pd.DataFrame({'Train Score': score_train,\n",
    "                      'Test Score': score_test}, index = name)\n",
    "result_score"
   ]
  },
  {
   "cell_type": "code",
   "execution_count": 40,
   "metadata": {},
   "outputs": [
    {
     "data": {
      "image/png": "[encoded data removed]",
      "text/plain": [
       "<Figure size 576x576 with 1 Axes>"
      ]
     },
     "metadata": {},
     "output_type": "display_data"
    }
   ],
   "source": [
    "# Plot the scores of the models\n",
    "result_score.plot(kind='bar', rot= 0, figsize=(8,8))\n",
    "plt.ylabel('Accuracy Score', fontsize = 15)\n",
    "plt.xticks(fontsize = 15)\n",
    "plt.title('Train and Test Scores', fontsize = 20)\n",
    "plt.rc('ytick',labelsize=13)\n",
    "plt.ylim(0,1.15);"
   ]
  },
  {
   "cell_type": "markdown",
   "metadata": {},
   "source": [
    "- The Binary image with PCA model performed the best accuracy score"
   ]
  },
  {
   "cell_type": "code",
   "execution_count": 38,
   "metadata": {},
   "outputs": [
    {
     "data": {
      "text/html": [
       "<div>\n",
       "<style scoped>\n",
       "    .dataframe tbody tr th:only-of-type {\n",
       "        vertical-align: middle;\n",
       "    }\n",
       "\n",
       "    .dataframe tbody tr th {\n",
       "        vertical-align: top;\n",
       "    }\n",
       "\n",
       "    .dataframe thead th {\n",
       "        text-align: right;\n",
       "    }\n",
       "</style>\n",
       "<table border=\"1\" class=\"dataframe\">\n",
       "  <thead>\n",
       "    <tr style=\"text-align: right;\">\n",
       "      <th></th>\n",
       "      <th>Fit Time (sec)</th>\n",
       "    </tr>\n",
       "  </thead>\n",
       "  <tbody>\n",
       "    <tr>\n",
       "      <th>Gray Scale</th>\n",
       "      <td>1925.896423</td>\n",
       "    </tr>\n",
       "    <tr>\n",
       "      <th>Gray Scale (PCA)</th>\n",
       "      <td>156.586496</td>\n",
       "    </tr>\n",
       "    <tr>\n",
       "      <th>Binary</th>\n",
       "      <td>201.963413</td>\n",
       "    </tr>\n",
       "    <tr>\n",
       "      <th>Binary(PCA)</th>\n",
       "      <td>155.307704</td>\n",
       "    </tr>\n",
       "  </tbody>\n",
       "</table>\n",
       "</div>"
      ],
      "text/plain": [
       "                  Fit Time (sec)\n",
       "Gray Scale           1925.896423\n",
       "Gray Scale (PCA)      156.586496\n",
       "Binary                201.963413\n",
       " Binary(PCA)          155.307704"
      ]
     },
     "execution_count": 38,
     "metadata": {},
     "output_type": "execute_result"
    }
   ],
   "source": [
    "# Make a dataframe of the different models with time consumed to fit the model\n",
    "result_time = pd.DataFrame({'Fit Time (sec)': time_fit}, index = name)\n",
    "result_time"
   ]
  },
  {
   "cell_type": "code",
   "execution_count": 39,
   "metadata": {},
   "outputs": [
    {
     "data": {
      "image/png": "[encoded data removed]",
      "text/plain": [
       "<Figure size 576x576 with 1 Axes>"
      ]
     },
     "metadata": {},
     "output_type": "display_data"
    }
   ],
   "source": [
    "# Plot the time consumed of the models\n",
    "result_time.plot(kind='bar', rot= 0, figsize=(8,8))\n",
    "plt.ylabel('Seconds', fontsize = 15)\n",
    "plt.xticks(fontsize = 15)\n",
    "plt.title('Time Consumed to Fit Model', fontsize = 20)\n",
    "plt.rc('ytick',labelsize=13)\n",
    "plt.ylim(0,2000);"
   ]
  },
  {
   "cell_type": "markdown",
   "metadata": {},
   "source": [
    "- The PCA models took the least amount of time to fit the model"
   ]
  },
  {
   "cell_type": "markdown",
   "metadata": {},
   "source": [
    "## Grid Search"
   ]
  },
  {
   "cell_type": "code",
   "execution_count": 10,
   "metadata": {},
   "outputs": [],
   "source": [
    "# Make a new dataframe and modify the data to binary (black and white) images\n",
    "train_b = train_new.copy()\n",
    "test_b = test_new.copy()\n",
    "train_b[train_b>0] = 1\n",
    "test_b[test_b>0] = 1"
   ]
  },
  {
   "cell_type": "code",
   "execution_count": 11,
   "metadata": {},
   "outputs": [],
   "source": [
    "# Make a pipeline to scale the image data, perform PCA and fit the Support Vector Classifier model.\n",
    "features = Pipeline([\n",
    "    ('scale', StandardScaler()),\n",
    "    ('pca', PCA(n_components=222)),\n",
    "    ('svm', SVC(verbose = True))\n",
    "])\n",
    "\n",
    "# Set the parameters to grid search over\n",
    "param = {\n",
    "    'svm__gamma': [1, 0.1, 0.01, 0.001]\n",
    "}"
   ]
  },
  {
   "cell_type": "code",
   "execution_count": 12,
   "metadata": {
    "scrolled": false
   },
   "outputs": [
    {
     "name": "stdout",
     "output_type": "stream",
     "text": [
      "Fitting 3 folds for each of 4 candidates, totalling 12 fits\n",
      "[CV] svm__gamma=1 ....................................................\n",
      "[CV] svm__gamma=1 ....................................................\n",
      "[LibSVM][CV] ..................................... svm__gamma=1, total=23.0min\n",
      "[CV] svm__gamma=1 ....................................................\n",
      "[LibSVM][CV] ..................................... svm__gamma=1, total=23.0min\n",
      "[CV] svm__gamma=0.1 ..................................................\n",
      "[LibSVM][CV] ..................................... svm__gamma=1, total=24.8min\n",
      "[CV] svm__gamma=0.1 ..................................................\n",
      "[LibSVM][CV] ................................... svm__gamma=0.1, total=25.1min\n",
      "[CV] svm__gamma=0.1 ..................................................\n",
      "[LibSVM][CV] ................................... svm__gamma=0.1, total=25.1min\n",
      "[CV] svm__gamma=0.01 .................................................\n",
      "[LibSVM][CV] ................................... svm__gamma=0.1, total=25.1min\n",
      "[CV] svm__gamma=0.01 .................................................\n",
      "[LibSVM][CV] .................................. svm__gamma=0.01, total=12.7min\n",
      "[CV] svm__gamma=0.01 .................................................\n",
      "[LibSVM][CV] .................................. svm__gamma=0.01, total=12.7min\n",
      "[CV] svm__gamma=0.001 ................................................\n",
      "[LibSVM][CV] ................................. svm__gamma=0.001, total= 3.0min\n",
      "[CV] svm__gamma=0.001 ................................................\n",
      "[LibSVM][CV] ................................. svm__gamma=0.001, total= 3.6min\n",
      "[CV] svm__gamma=0.001 ................................................\n",
      "[LibSVM][CV] .................................. svm__gamma=0.01, total=13.0min\n",
      "[LibSVM][CV] ................................. svm__gamma=0.001, total= 4.6min\n"
     ]
    },
    {
     "name": "stderr",
     "output_type": "stream",
     "text": [
      "[Parallel(n_jobs=-1)]: Done  12 out of  12 | elapsed: 139.5min finished\n"
     ]
    },
    {
     "name": "stdout",
     "output_type": "stream",
     "text": [
      "[LibSVM]"
     ]
    },
    {
     "data": {
      "text/plain": [
       "GridSearchCV(cv=3, error_score='raise',\n",
       "       estimator=Pipeline(memory=None,\n",
       "     steps=[('scale', StandardScaler(copy=True, with_mean=True, with_std=True)), ('pca', PCA(copy=True, iterated_power='auto', n_components=222, random_state=None,\n",
       "  svd_solver='auto', tol=0.0, whiten=False)), ('svm', SVC(C=1.0, cache_size=200, class_weight=None, coef0=0.0,\n",
       "  decision_function_shape='ovr', degree=3, gamma='auto', kernel='rbf',\n",
       "  max_iter=-1, probability=False, random_state=None, shrinking=True,\n",
       "  tol=0.001, verbose=True))]),\n",
       "       fit_params=None, iid=True, n_jobs=-1,\n",
       "       param_grid={'svm__gamma': [1, 0.1, 0.01, 0.001]},\n",
       "       pre_dispatch='2*n_jobs', refit=True, return_train_score='warn',\n",
       "       scoring=None, verbose=2)"
      ]
     },
     "execution_count": 12,
     "metadata": {},
     "output_type": "execute_result"
    }
   ],
   "source": [
    "# Perform Grid Search over the set parameters\n",
    "# Used AWS since the process takes a while with big dataset\n",
    "gs = GridSearchCV(features, param, cv = 3, verbose = 2, n_jobs=-1)\n",
    "gs.fit(train_b, train_labels)"
   ]
  },
  {
   "cell_type": "code",
   "execution_count": 15,
   "metadata": {},
   "outputs": [
    {
     "data": {
      "text/plain": [
       "0.9527083333333334"
      ]
     },
     "execution_count": 15,
     "metadata": {},
     "output_type": "execute_result"
    }
   ],
   "source": [
    "# Check the best score\n",
    "gs.best_score_"
   ]
  },
  {
   "cell_type": "markdown",
   "metadata": {},
   "source": [
    "- The Support Vector Classifier model with gamma of 0.001 performed the best"
   ]
  },
  {
   "cell_type": "markdown",
   "metadata": {},
   "source": [
    "# Final Model"
   ]
  },
  {
   "cell_type": "code",
   "execution_count": 15,
   "metadata": {},
   "outputs": [],
   "source": [
    "# Make a new dataframe and modify the data to binary (black and white) images\n",
    "train_b = train_new.copy()\n",
    "test_b = test_new.copy()\n",
    "train_b[train_b>0] = 1\n",
    "test_b[test_b>0] = 1"
   ]
  },
  {
   "cell_type": "code",
   "execution_count": 16,
   "metadata": {},
   "outputs": [],
   "source": [
    "# Make a pipeline to scale the image data, perform PCA and fit the Support Vector Classifier model with gamma = 0.001\n",
    "model = Pipeline([\n",
    "    ('scale', StandardScaler()),\n",
    "    ('pca', PCA(n_components=222)),\n",
    "    ('svm', SVC(gamma = 0.001, verbose = True))\n",
    "])"
   ]
  },
  {
   "cell_type": "code",
   "execution_count": 23,
   "metadata": {},
   "outputs": [
    {
     "name": "stdout",
     "output_type": "stream",
     "text": [
      "[LibSVM][LibSVM][LibSVM]"
     ]
    },
    {
     "data": {
      "text/plain": [
       "array([0.95349045, 0.95446429, 0.95088409])"
      ]
     },
     "execution_count": 23,
     "metadata": {},
     "output_type": "execute_result"
    }
   ],
   "source": [
    "# cross validate the model\n",
    "cross_val_score(model, train_b, train_labels, cv = 3)"
   ]
  },
  {
   "cell_type": "code",
   "execution_count": 24,
   "metadata": {},
   "outputs": [
    {
     "name": "stdout",
     "output_type": "stream",
     "text": [
      "[LibSVM]"
     ]
    },
    {
     "data": {
      "text/plain": [
       "Pipeline(memory=None,\n",
       "     steps=[('scale', StandardScaler(copy=True, with_mean=True, with_std=True)), ('pca', PCA(copy=True, iterated_power='auto', n_components=222, random_state=None,\n",
       "  svd_solver='auto', tol=0.0, whiten=False)), ('svm', SVC(C=1.0, cache_size=200, class_weight=None, coef0=0.0,\n",
       "  decision_function_shape='ovr', degree=3, gamma=0.001, kernel='rbf',\n",
       "  max_iter=-1, probability=False, random_state=None, shrinking=True,\n",
       "  tol=0.001, verbose=True))])"
      ]
     },
     "execution_count": 24,
     "metadata": {},
     "output_type": "execute_result"
    }
   ],
   "source": [
    "# Fit the model\n",
    "model.fit(train_b, train_labels)"
   ]
  },
  {
   "cell_type": "code",
   "execution_count": 25,
   "metadata": {
    "scrolled": false
   },
   "outputs": [
    {
     "name": "stdout",
     "output_type": "stream",
     "text": [
      "Train Accuracy 0.9736309523809524\n",
      "Test Accuracy 0.9563095238095238\n"
     ]
    }
   ],
   "source": [
    "# Print out the train and test accuracy\n",
    "print('Train Accuracy', model.score(train_b, train_labels))\n",
    "print('Test Accuracy',model.score(test_b, test_labels))"
   ]
  }
 ],
 "metadata": {
  "kernelspec": {
   "display_name": "Python 3",
   "language": "python",
   "name": "python3"
  },
  "language_info": {
   "codemirror_mode": {
    "name": "ipython",
    "version": 3
   },
   "file_extension": ".py",
   "mimetype": "text/x-python",
   "name": "python",
   "nbconvert_exporter": "python",
   "pygments_lexer": "ipython3",
   "version": "3.6.7"
  }
 },
 "nbformat": 4,
 "nbformat_minor": 2
}
